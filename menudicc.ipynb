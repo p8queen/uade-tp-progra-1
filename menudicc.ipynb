{
 "cells": [
  {
   "cell_type": "code",
   "execution_count": 51,
   "metadata": {},
   "outputs": [],
   "source": [
    "descripcionCategorias={\n",
    "    1:{'Alimentación':'Gastos relacionados a la alimentación como supermercado, almacen, verdulería.'}, \n",
    "    2:{'Alquiler':'Gastos de alquiler o renta del lugar de vivir o para automotores, depósitos, etc...'}, \n",
    "    3:{'Entretenimiento':'Gastos de diversión como por ejemplo cine, teatro, vacaciones.'}, \n",
    "    4:{'Transporte':'Viaticos relacionados a la movilidad regular del mes como son la Sube, larga distancia, tren, etc...'}, \n",
    "    5:{'Estudios':'Los gastos de estudios como son la universidad, cursos, talleres.'}, \n",
    "    6:{'Salud':'Gastos de la medicina o relacionados como son los medicamentos.'},\n",
    "    7:{'Servicios':'Los gastos fijos inherentes a la vivienda, cochera, depósito.'}\n",
    "    }\n",
    "\n",
    "categoriasOpciones = {\n",
    "    1: 'Ver categorias',\n",
    "    2: 'Agregar una categoría nueva',\n",
    "    3: 'Eliminar una categoria',\n",
    "    4: 'Editar descripción de una categoría',\n",
    "    5: 'Obtener categorias en uso, es decir, que tengan gastos ingresados',\n",
    "    9: 'Volver al menú anterior'\n",
    "}\n",
    "\n",
    "editarGastoOpciones = {\n",
    "    1: 'Eliminar gasto por ID',\n",
    "    2: 'Editar gasto por ID',\n",
    "    3: 'Eliminar gasto por Fecha',\n",
    "    4: 'Editar gasto por Fecha',\n",
    "    9: 'Volver al menú anterior'\n",
    "    }\n",
    "\n",
    "gastosOpciones = {\n",
    "    1: 'Total gastos por categorias',\n",
    "    2: 'Gastos por mes',\n",
    "    3: 'Gastos por mes por categoría',\n",
    "    4: 'Gastos por ID',\n",
    "    5: 'Gastos por fecha',\n",
    "    6: 'Gastos por rango de importe',\n",
    "    7: 'Gastos por Categoria',\n",
    "    9: 'Volver al menú anterior'\n",
    "}\n",
    "# crear diccionario con menu principal\n",
    "menu = {\n",
    "    1: 'Cargar nuevo gasto',\n",
    "    2: {'Ver gastos': gastosOpciones},\n",
    "    3: {'Ver lista de categorías': descripcionCategorias},\n",
    "    4: {'Editar lista de categorías': categoriasOpciones},\n",
    "    5: {'Editar gasto': editarGastoOpciones},\n",
    "    9: 'Salir'\n",
    "}"
   ]
  },
  {
   "cell_type": "code",
   "execution_count": 19,
   "metadata": {},
   "outputs": [
    {
     "name": "stdout",
     "output_type": "stream",
     "text": [
      "Ver gastos\n",
      "{1: 'Total gastos por categorias', 2: 'Gastos por mes', 3: 'Gastos por mes por categoría', 4: 'Gastos por ID', 5: 'Gastos por fecha', 6: 'Gastos por rango de importe', 7: 'Gastos por Categoria', 9: 'Volver al menú anterior'}\n",
      "1 Total gastos por categorias\n",
      "2 Gastos por mes\n",
      "3 Gastos por mes por categoría\n",
      "4 Gastos por ID\n",
      "5 Gastos por fecha\n",
      "6 Gastos por rango de importe\n",
      "7 Gastos por Categoria\n",
      "9 Volver al menú anterior\n"
     ]
    }
   ],
   "source": [
    "print(list(menu[2].keys())[0])\n",
    "\n",
    "print(menu[2]['Ver gastos'])\n",
    "\n",
    "for k,v in menu[2]['Ver gastos'].items():\n",
    "    print(k, v)\n"
   ]
  },
  {
   "cell_type": "code",
   "execution_count": 26,
   "metadata": {},
   "outputs": [
    {
     "name": "stdout",
     "output_type": "stream",
     "text": [
      "{1: 'Eliminar gasto por ID', 2: 'Editar gasto por ID', 3: 'Eliminar gasto por Fecha', 4: 'Editar gasto por Fecha', 9: 'Volver al menú anterior'}\n",
      "1 Eliminar gasto por ID\n",
      "2 Editar gasto por ID\n",
      "3 Eliminar gasto por Fecha\n",
      "4 Editar gasto por Fecha\n",
      "9 Volver al menú anterior\n"
     ]
    }
   ],
   "source": [
    "print(menu[5]['Editar gasto'])\n",
    "\n",
    "for k,v in menu[5]['Editar gasto'].items():\n",
    "    print(k, v)"
   ]
  },
  {
   "cell_type": "code",
   "execution_count": 50,
   "metadata": {},
   "outputs": [
    {
     "name": "stdout",
     "output_type": "stream",
     "text": [
      "1 Eliminar gasto por ID\n",
      "2 Editar gasto por ID\n",
      "3 Eliminar gasto por Fecha\n",
      "4 Editar gasto por Fecha\n",
      "9 Volver al menú anterior\n"
     ]
    }
   ],
   "source": [
    "key = list(menu[5])[0]\n",
    "for k,v in menu[5][key].items():\n",
    "    print(k, v)"
   ]
  },
  {
   "cell_type": "code",
   "execution_count": 80,
   "metadata": {},
   "outputs": [
    {
     "name": "stdout",
     "output_type": "stream",
     "text": [
      "1: Cargar nuevo gasto\n",
      "2: Ver gastos\n",
      "3: Ver lista de categorías\n",
      "4: Editar lista de categorías\n",
      "5: Editar gasto\n",
      "9: Salir\n",
      "\n",
      "51: Eliminar gasto por ID\n",
      "52: Editar gasto por ID\n",
      "53: Eliminar gasto por Fecha\n",
      "54: Editar gasto por Fecha\n",
      "59: Volver al menú anterior\n"
     ]
    }
   ],
   "source": [
    "def menuDicc():\n",
    "    for k,v in menu.items():\n",
    "        #print(type(menu[k]), menu[k] )\n",
    "        if type(menu[k]) == dict:\n",
    "            for k1,v1 in menu[k].items():\n",
    "                print(f'{k}: {k1}')\n",
    "        else:\n",
    "            print(f'{k}: {v}')\n",
    "\n",
    "def subMenuDicc(opcion): \n",
    "    if type(menu[opcion]) == dict:\n",
    "        key = list(menu[opcion])[0]\n",
    "        for k,v in menu[opcion][key].items():\n",
    "            print(f'{opcion}{k}: {v}')   \n",
    "    else:\n",
    "        print(f'{opcion}: {menu[opcion]}')\n",
    "         \n",
    "\n",
    "menuDicc()\n",
    "print()\n",
    "subMenuDicc(5)"
   ]
  }
 ],
 "metadata": {
  "kernelspec": {
   "display_name": ".venv",
   "language": "python",
   "name": "python3"
  },
  "language_info": {
   "codemirror_mode": {
    "name": "ipython",
    "version": 3
   },
   "file_extension": ".py",
   "mimetype": "text/x-python",
   "name": "python",
   "nbconvert_exporter": "python",
   "pygments_lexer": "ipython3",
   "version": "3.9.6"
  }
 },
 "nbformat": 4,
 "nbformat_minor": 2
}
