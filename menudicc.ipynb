{
 "cells": [
  {
   "cell_type": "code",
   "execution_count": 1,
   "metadata": {},
   "outputs": [],
   "source": [
    "gastosOpciones = {\n",
    "    1: 'Total gastos por categorias',\n",
    "    2: 'Gastos por mes',\n",
    "    3: 'Gastos por mes por categoría',\n",
    "    4: 'Gastos por ID',\n",
    "    5: 'Gastos por fecha',\n",
    "    6: 'Gastos por rango de importe',\n",
    "    7: 'Gastos por Categoria',\n",
    "    9: 'Volver al menú anterior'\n",
    "}\n",
    "# crear diccionario con menu principal\n",
    "menu = {\n",
    "    1: 'Cargar nuevo gasto',\n",
    "    2: {'Ver gastos': gastosOpciones},\n",
    "    3: 'Ver lista de categorías',\n",
    "    4: 'Editar lista de categorías',\n",
    "    5: 'Editar gasto',\n",
    "    9: 'Salir'\n",
    "}"
   ]
  },
  {
   "cell_type": "code",
   "execution_count": 19,
   "metadata": {},
   "outputs": [
    {
     "name": "stdout",
     "output_type": "stream",
     "text": [
      "Ver gastos\n",
      "{1: 'Total gastos por categorias', 2: 'Gastos por mes', 3: 'Gastos por mes por categoría', 4: 'Gastos por ID', 5: 'Gastos por fecha', 6: 'Gastos por rango de importe', 7: 'Gastos por Categoria', 9: 'Volver al menú anterior'}\n",
      "1 Total gastos por categorias\n",
      "2 Gastos por mes\n",
      "3 Gastos por mes por categoría\n",
      "4 Gastos por ID\n",
      "5 Gastos por fecha\n",
      "6 Gastos por rango de importe\n",
      "7 Gastos por Categoria\n",
      "9 Volver al menú anterior\n"
     ]
    }
   ],
   "source": [
    "print(list(menu[2].keys())[0])\n",
    "\n",
    "print(menu[2]['Ver gastos'])\n",
    "\n",
    "for k,v in menu[2]['Ver gastos'].items():\n",
    "    print(k, v)\n"
   ]
  }
 ],
 "metadata": {
  "kernelspec": {
   "display_name": ".venv",
   "language": "python",
   "name": "python3"
  },
  "language_info": {
   "codemirror_mode": {
    "name": "ipython",
    "version": 3
   },
   "file_extension": ".py",
   "mimetype": "text/x-python",
   "name": "python",
   "nbconvert_exporter": "python",
   "pygments_lexer": "ipython3",
   "version": "3.9.6"
  }
 },
 "nbformat": 4,
 "nbformat_minor": 2
}
