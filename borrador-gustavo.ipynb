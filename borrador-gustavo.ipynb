{
 "cells": [
  {
   "cell_type": "code",
   "execution_count": 1,
   "metadata": {},
   "outputs": [
    {
     "name": "stdout",
     "output_type": "stream",
     "text": [
      "[990, '2024-09-12', 293.0, 'otros']\n",
      "[991, '2024-01-17', 354.0, 'otros']\n",
      "[992, '2024-02-05', 585.0, 'supermercado']\n",
      "[993, '2024-06-07', 951.0, 'otros']\n",
      "[994, '2024-12-10', 350.0, 'seguros']\n",
      "[995, '2024-04-15', 830.0, 'seguros']\n",
      "[996, '2024-01-23', 123.0, 'otros']\n",
      "[997, '2024-04-05', 672.0, 'transporte']\n",
      "[998, '2024-10-12', 711.0, 'seguros']\n",
      "[999, '2024-03-08', 773.0, 'comida']\n"
     ]
    }
   ],
   "source": [
    "tuplaMeses = ('enero', 'febrero', 'marzo', 'abril', 'mayo', 'junio', 'julio', 'agosto', 'septiembre', 'octubre', 'noviembre', 'diciembre')\n",
    "categorias=['Aliminetación', 'Alquiler', 'Entretenimiento', 'Transporte', 'Estudios', 'Salud','Servicios']\n",
    "\n",
    "matrizGastos = []\n",
    "def cargarDatosConId(matriz, archivo):\n",
    "    with open(archivo) as data:\n",
    "        primeraLinea = True\n",
    "        for line in data:\n",
    "            gastos = line.strip('\\n').split(',')\n",
    "            if not primeraLinea:\n",
    "                gastos[0] = int(gastos[0]) # convierte el id a entero\n",
    "                gastos[2] = round(float(gastos[2]), 2) # redondea el importe\n",
    "            else:\n",
    "                primeraLinea = False\n",
    "            gastos[3] = gastos[3].strip() # elimina espacios en blanco\n",
    "            matriz.append(gastos)\n",
    "        matriz.pop(0) # elimina cabecera\n",
    "\n",
    "cargarDatosConId(matrizGastos, 'gastos-id.csv')\n",
    "\n",
    "for line in matrizGastos[-10:]:\n",
    "    print(line)"
   ]
  },
  {
   "cell_type": "code",
   "execution_count": 2,
   "metadata": {},
   "outputs": [
    {
     "name": "stdout",
     "output_type": "stream",
     "text": [
      "octubre\n",
      "\ttransporte: [731.0, 600.0, 400.0, 692.0, 110.0, 216.0, 427.0, 1000.0, 413.0, 944.0, 710.0, 926.0, 323.0, 237.0]\n",
      "\totros: [1000.0, 961.0, 911.0, 564.0, 743.0, 164.0, 312.0, 692.0, 775.0, 410.0, 852.0, 701.0, 589.0, 154.0, 512.0, 929.0, 250.0, 450.0, 925.0, 469.0, 621.0, 336.0]\n",
      "\tcomida: [888.0, 388.0, 350.0, 900.0, 538.0, 628.0, 986.0, 828.0, 862.0, 974.0]\n",
      "\tseguros: [732.0, 786.0, 560.0, 424.0, 828.0, 219.0, 239.0, 862.0, 659.0, 826.0, 380.0, 104.0, 439.0, 915.0, 633.0, 711.0]\n",
      "\tsupermercado: [515.0, 316.0, 525.0, 116.0, 347.0, 429.0, 967.0, 197.0, 138.0, 272.0, 790.0, 981.0]\n",
      "diciembre\n",
      "\ttransporte: [419.0, 661.0, 299.0, 974.0, 292.0, 154.0, 370.0, 838.0, 107.0, 850.0, 583.0, 107.0, 870.0]\n",
      "\tsupermercado: [700.0, 734.0, 299.0, 473.0, 539.0, 187.0, 618.0, 470.0, 748.0, 812.0, 936.0, 205.0, 731.0, 766.0]\n",
      "\totros: [341.0, 712.0, 608.0, 850.0, 165.0, 508.0, 525.0, 854.0, 840.0, 888.0, 943.0, 331.0, 845.0, 831.0, 744.0, 246.0, 697.0, 294.0]\n",
      "\tseguros: [997.0, 368.0, 591.0, 543.0, 323.0, 658.0, 570.0, 878.0, 644.0, 174.0, 925.0, 707.0, 179.0, 183.0, 651.0, 156.0, 350.0]\n",
      "\tcomida: [783.0, 670.0, 618.0, 984.0, 635.0, 221.0, 797.0, 230.0, 625.0, 804.0, 684.0, 629.0, 175.0, 649.0, 286.0, 391.0, 564.0, 568.0, 425.0, 241.0, 991.0, 760.0, 915.0, 195.0, 607.0, 446.0, 185.0, 273.0, 991.0]\n",
      "junio\n",
      "\totros: [962.0, 668.0, 704.0, 616.0, 546.0, 684.0, 310.0, 734.0, 940.0, 898.0, 290.0, 497.0, 499.0, 532.0, 327.0, 611.0, 605.0, 755.0, 697.0, 170.0, 951.0]\n",
      "\tcomida: [413.0, 585.0, 836.0, 599.0, 739.0, 972.0, 1000.0, 116.0, 434.0, 732.0, 849.0, 787.0, 913.0, 855.0, 636.0]\n",
      "\ttransporte: [874.0, 604.0, 790.0, 225.0, 905.0, 288.0, 974.0, 993.0, 252.0, 977.0, 533.0, 106.0, 223.0, 770.0, 526.0]\n",
      "\tseguros: [892.0, 412.0, 615.0, 519.0, 109.0, 450.0, 369.0, 417.0, 503.0, 988.0, 767.0, 135.0, 385.0, 444.0, 313.0, 728.0, 324.0, 676.0, 977.0]\n",
      "\tsupermercado: [357.0, 386.0, 150.0, 746.0, 125.0, 890.0, 104.0, 354.0, 792.0, 530.0, 558.0, 814.0, 310.0, 831.0, 278.0, 685.0, 652.0, 990.0]\n",
      "mayo\n",
      "\tcomida: [657.0, 746.0, 144.0, 958.0, 758.0, 684.0, 742.0, 628.0, 388.0]\n",
      "\tsupermercado: [853.0, 514.0, 723.0, 222.0, 366.0, 793.0, 314.0, 100.0, 197.0, 899.0, 477.0, 405.0, 896.0, 326.0, 154.0, 368.0]\n",
      "\tseguros: [276.0, 213.0, 535.0, 326.0, 129.0, 350.0, 733.0, 508.0, 834.0, 958.0, 670.0, 290.0, 193.0, 890.0, 955.0, 430.0, 744.0, 857.0, 259.0, 932.0, 419.0]\n",
      "\totros: [995.0, 762.0, 279.0, 910.0, 189.0, 221.0, 467.0, 764.0, 718.0, 789.0, 316.0]\n",
      "\ttransporte: [400.0, 691.0, 571.0, 966.0, 788.0, 750.0, 856.0, 991.0]\n",
      "marzo\n",
      "\tcomida: [494.0, 751.0, 815.0, 993.0, 490.0, 781.0, 233.0, 364.0, 953.0, 793.0, 547.0, 526.0, 777.0, 340.0, 608.0, 470.0, 253.0, 719.0, 149.0, 226.0, 773.0]\n",
      "\tsupermercado: [330.0, 443.0, 633.0, 124.0, 480.0, 582.0, 646.0, 790.0, 644.0, 553.0, 212.0, 713.0, 455.0, 761.0, 558.0, 251.0, 475.0, 272.0, 666.0, 311.0, 190.0]\n",
      "\totros: [377.0, 307.0, 545.0, 493.0, 738.0, 814.0, 491.0, 935.0, 216.0, 325.0, 592.0, 462.0, 503.0, 947.0, 715.0]\n",
      "\ttransporte: [581.0, 483.0, 417.0, 312.0, 718.0, 119.0, 503.0, 137.0, 376.0, 765.0, 350.0, 473.0, 410.0, 435.0, 383.0]\n",
      "\tseguros: [556.0, 822.0, 693.0, 587.0, 489.0, 522.0, 192.0, 380.0, 397.0, 370.0, 266.0, 736.0, 748.0, 149.0, 597.0, 405.0]\n",
      "enero\n",
      "\tseguros: [643.0, 105.0, 108.0, 527.0, 693.0, 828.0, 340.0, 634.0, 299.0, 430.0, 893.0, 205.0, 852.0, 769.0, 757.0, 468.0, 310.0]\n",
      "\ttransporte: [829.0, 591.0, 769.0, 316.0, 380.0, 456.0, 950.0, 785.0, 409.0, 477.0, 531.0, 527.0, 105.0, 784.0, 691.0, 580.0, 286.0, 561.0, 774.0]\n",
      "\tcomida: [279.0, 251.0, 791.0, 575.0, 176.0, 499.0, 169.0, 265.0, 822.0, 531.0, 929.0, 635.0, 580.0, 966.0, 692.0, 361.0, 547.0]\n",
      "\totros: [416.0, 579.0, 624.0, 950.0, 331.0, 243.0, 277.0, 812.0, 393.0, 941.0, 125.0, 275.0, 113.0, 494.0, 533.0, 422.0, 317.0, 588.0, 716.0, 253.0, 568.0, 407.0, 354.0, 123.0]\n",
      "\tsupermercado: [974.0, 664.0, 686.0, 544.0, 792.0, 444.0, 903.0, 649.0, 120.0, 209.0, 846.0, 810.0, 682.0, 611.0, 291.0, 646.0, 184.0]\n",
      "julio\n",
      "\tcomida: [988.0, 667.0, 803.0, 394.0, 609.0, 891.0, 739.0, 465.0, 784.0, 885.0, 321.0, 300.0, 463.0, 977.0]\n",
      "\totros: [616.0, 757.0, 728.0, 460.0, 898.0, 748.0, 276.0, 519.0, 537.0, 483.0, 586.0, 153.0, 877.0, 226.0, 931.0, 691.0]\n",
      "\tseguros: [741.0, 753.0, 993.0, 505.0, 459.0, 589.0, 910.0, 753.0, 610.0, 909.0, 316.0, 422.0, 887.0, 226.0]\n",
      "\tsupermercado: [169.0, 848.0, 550.0, 407.0, 715.0, 524.0, 697.0, 277.0, 400.0, 554.0, 919.0, 745.0, 762.0, 353.0, 846.0, 821.0, 662.0, 205.0, 221.0, 663.0, 702.0, 679.0]\n",
      "\ttransporte: [761.0, 849.0, 797.0, 923.0, 788.0, 770.0, 920.0, 887.0, 841.0, 604.0, 251.0]\n",
      "septiembre\n",
      "\ttransporte: [423.0, 947.0, 673.0, 468.0, 806.0, 867.0, 753.0, 131.0, 837.0, 659.0, 159.0, 700.0, 148.0, 693.0, 455.0, 790.0]\n",
      "\tsupermercado: [753.0, 574.0, 454.0, 160.0, 833.0, 774.0, 372.0, 643.0, 595.0, 958.0, 998.0, 227.0, 245.0]\n",
      "\tseguros: [155.0, 402.0, 397.0, 527.0, 879.0, 381.0, 322.0, 534.0, 570.0, 548.0, 973.0, 907.0, 766.0, 933.0, 793.0, 346.0, 729.0, 615.0, 988.0]\n",
      "\tcomida: [323.0, 461.0, 485.0, 705.0, 667.0, 249.0, 114.0, 195.0, 445.0, 757.0, 114.0, 423.0, 717.0, 168.0, 921.0, 541.0]\n",
      "\totros: [456.0, 528.0, 144.0, 125.0, 685.0, 927.0, 612.0, 547.0, 237.0, 865.0, 579.0, 503.0, 636.0, 451.0, 343.0, 117.0, 163.0, 385.0, 587.0, 293.0]\n",
      "agosto\n",
      "\totros: [472.0, 972.0, 435.0, 131.0, 838.0, 667.0, 758.0, 212.0, 969.0, 418.0, 886.0, 350.0, 445.0, 436.0, 781.0, 614.0, 181.0]\n",
      "\ttransporte: [492.0, 442.0, 882.0, 287.0, 341.0, 628.0, 963.0, 717.0, 164.0, 706.0, 523.0, 435.0, 308.0, 565.0, 253.0, 582.0, 164.0]\n",
      "\tseguros: [890.0, 685.0, 416.0, 799.0, 700.0, 746.0, 990.0, 133.0, 117.0, 171.0, 763.0, 835.0, 719.0, 155.0, 553.0, 439.0]\n",
      "\tcomida: [610.0, 779.0, 877.0, 215.0, 812.0, 402.0, 374.0, 657.0, 544.0, 429.0, 147.0, 403.0, 378.0, 480.0, 540.0]\n",
      "\tsupermercado: [229.0, 649.0, 924.0, 303.0, 802.0, 189.0, 771.0, 686.0, 429.0, 827.0, 721.0, 914.0, 641.0, 790.0, 303.0, 222.0, 311.0, 175.0, 851.0, 438.0, 311.0, 954.0, 750.0, 294.0]\n",
      "febrero\n",
      "\tseguros: [725.0, 835.0, 446.0, 869.0, 265.0, 255.0, 488.0, 444.0, 433.0, 194.0, 682.0, 347.0, 946.0, 508.0, 739.0, 515.0, 732.0, 741.0, 737.0, 248.0, 188.0, 445.0, 530.0]\n",
      "\tcomida: [242.0, 753.0, 902.0, 353.0, 133.0, 355.0, 969.0, 545.0, 169.0, 586.0, 104.0, 863.0, 236.0, 259.0, 935.0]\n",
      "\ttransporte: [500.0, 625.0, 172.0, 910.0, 436.0, 138.0, 581.0, 183.0, 736.0, 500.0, 496.0, 721.0, 984.0, 675.0, 888.0, 751.0, 168.0]\n",
      "\tsupermercado: [155.0, 605.0, 208.0, 324.0, 270.0, 453.0, 389.0, 187.0, 626.0, 580.0, 603.0, 580.0, 635.0, 638.0, 570.0, 234.0, 853.0, 585.0]\n",
      "\totros: [840.0, 847.0, 119.0, 903.0, 976.0, 573.0, 198.0, 488.0, 718.0, 408.0, 888.0, 875.0, 879.0, 173.0, 304.0]\n",
      "noviembre\n",
      "\tseguros: [706.0, 889.0, 504.0, 198.0, 479.0, 462.0, 700.0, 164.0, 854.0, 749.0, 893.0, 557.0, 343.0, 401.0, 766.0, 370.0, 923.0, 807.0, 972.0, 748.0, 639.0, 620.0, 549.0, 220.0, 958.0]\n",
      "\tsupermercado: [276.0, 220.0, 329.0, 665.0, 702.0, 548.0, 641.0, 584.0, 361.0, 924.0, 928.0, 145.0, 264.0, 824.0, 671.0]\n",
      "\ttransporte: [736.0, 686.0, 591.0, 743.0, 870.0, 903.0, 902.0, 360.0, 654.0, 430.0, 848.0, 191.0, 178.0, 303.0, 234.0]\n",
      "\tcomida: [979.0, 932.0, 794.0, 960.0, 886.0, 365.0, 474.0, 307.0, 635.0, 250.0, 999.0, 403.0, 917.0, 844.0, 784.0]\n",
      "\totros: [978.0, 991.0, 351.0, 899.0, 860.0, 698.0, 324.0, 872.0, 115.0, 289.0, 283.0, 242.0, 940.0, 782.0, 738.0, 563.0]\n",
      "abril\n",
      "\tsupermercado: [680.0, 345.0, 831.0, 890.0, 232.0, 836.0, 672.0, 462.0, 607.0, 320.0, 546.0, 859.0, 505.0, 465.0, 671.0, 162.0]\n",
      "\tcomida: [852.0, 810.0, 592.0, 540.0, 633.0, 523.0, 127.0, 499.0, 629.0, 484.0, 655.0, 727.0, 627.0, 736.0, 264.0, 959.0]\n",
      "\totros: [874.0, 433.0, 127.0, 181.0, 731.0, 241.0, 235.0, 238.0, 307.0, 760.0, 702.0, 727.0, 243.0, 744.0, 733.0, 297.0, 500.0, 623.0, 823.0]\n",
      "\tseguros: [840.0, 489.0, 294.0, 618.0, 591.0, 201.0, 162.0, 375.0, 591.0, 581.0, 830.0]\n",
      "\ttransporte: [194.0, 557.0, 491.0, 981.0, 215.0, 728.0, 527.0, 746.0, 703.0, 598.0, 882.0, 951.0, 672.0]\n"
     ]
    }
   ],
   "source": [
    "def crearDiccionarioId(tuplaMeses, matrizGastos, diccionarioGastos):\n",
    "    for linea in matrizGastos:\n",
    "        # linea[0] es de la forma YYYY-MM-DD \n",
    "        mes = tuplaMeses[int(linea[1].split('-')[1]) - 1]\n",
    "        concepto = linea[3]\n",
    "        importe = linea[2]\n",
    "        if mes not in diccionarioGastos:\n",
    "            diccionarioGastos[mes] = {}\n",
    "        if concepto not in diccionarioGastos[mes]:\n",
    "            diccionarioGastos[mes][concepto] = []\n",
    "        diccionarioGastos[mes][concepto].append(importe)\n",
    "\n",
    "    \n",
    "\n",
    "diccionarioGastos = {}\n",
    "crearDiccionarioId(tuplaMeses, matrizGastos, diccionarioGastos)\n",
    "\n",
    "for mes in diccionarioGastos:\n",
    "    print(mes)\n",
    "    for categoria in diccionarioGastos[mes]:\n",
    "        print(f'\\t{categoria}: {diccionarioGastos[mes][categoria]}')"
   ]
  },
  {
   "cell_type": "code",
   "execution_count": 8,
   "metadata": {},
   "outputs": [
    {
     "name": "stdout",
     "output_type": "stream",
     "text": [
      "enero: $49639.0\n",
      "febrero: $46864.0\n",
      "marzo: $44975.0\n",
      "abril: $42076.0\n",
      "mayo: $37236.0\n",
      "junio: $52077.0\n",
      "julio: $48955.0\n",
      "agosto: $48259.0\n",
      "septiembre: $45328.0\n",
      "octubre: $43301.0\n",
      "noviembre: $52636.0\n",
      "diciembre: $51203.0\n"
     ]
    }
   ],
   "source": [
    "# obtener de diccionario el total de gastos de un mes\n",
    "def totalGastosMes(diccionarioGastos, mes):\n",
    "    total = 0\n",
    "    for categoria in diccionarioGastos[mes]:\n",
    "        total += sum(diccionarioGastos[mes][categoria]) # suma los importes de cada categoria\n",
    "    return total\n",
    "\n",
    "def totalGastosPorMes(diccionarioGastos, tuplaMeses):\n",
    "    for mes in tuplaMeses:\n",
    "        if mes in diccionarioGastos:\n",
    "            total = 0\n",
    "            for categoria in diccionarioGastos[mes]:\n",
    "                total += sum(diccionarioGastos[mes][categoria])\n",
    "            print(f'{mes}: ${totalGastosMes(diccionarioGastos, mes)}')\n",
    "        \n",
    "\n",
    "totalGastosPorMes(diccionarioGastos, tuplaMeses)"
   ]
  },
  {
   "cell_type": "code",
   "execution_count": 10,
   "metadata": {},
   "outputs": [
    {
     "ename": "IndexError",
     "evalue": "Replacement index 1 out of range for positional args tuple",
     "output_type": "error",
     "traceback": [
      "\u001b[1;31m---------------------------------------------------------------------------\u001b[0m",
      "\u001b[1;31mIndexError\u001b[0m                                Traceback (most recent call last)",
      "Cell \u001b[1;32mIn[10], line 2\u001b[0m\n\u001b[0;32m      1\u001b[0m g \u001b[38;5;241m=\u001b[39m [\u001b[38;5;241m1\u001b[39m,\u001b[38;5;124m\"\u001b[39m\u001b[38;5;124m2024-13-01\u001b[39m\u001b[38;5;124m\"\u001b[39m, \u001b[38;5;241m100\u001b[39m, \u001b[38;5;124m\"\u001b[39m\u001b[38;5;124mAlquiler\u001b[39m\u001b[38;5;124m\"\u001b[39m]\n\u001b[1;32m----> 2\u001b[0m \u001b[38;5;28mprint\u001b[39m(\u001b[38;5;124;43m\"\u001b[39;49m\u001b[38;5;132;43;01m{}\u001b[39;49;00m\u001b[38;5;124;43m \u001b[39;49m\u001b[38;5;132;43;01m{}\u001b[39;49;00m\u001b[38;5;124;43m \u001b[39;49m\u001b[38;5;132;43;01m{}\u001b[39;49;00m\u001b[38;5;124;43m \u001b[39;49m\u001b[38;5;132;43;01m{}\u001b[39;49;00m\u001b[38;5;124;43m\"\u001b[39;49m\u001b[38;5;241;43m.\u001b[39;49m\u001b[43mformat\u001b[49m\u001b[43m(\u001b[49m\u001b[43m[\u001b[49m\u001b[43mx\u001b[49m\u001b[43m \u001b[49m\u001b[38;5;28;43;01mfor\u001b[39;49;00m\u001b[43m \u001b[49m\u001b[43mx\u001b[49m\u001b[43m \u001b[49m\u001b[38;5;129;43;01min\u001b[39;49;00m\u001b[43m \u001b[49m\u001b[43mg\u001b[49m\u001b[43m]\u001b[49m\u001b[43m)\u001b[49m) \u001b[38;5;66;03m# 13\u001b[39;00m\n",
      "\u001b[1;31mIndexError\u001b[0m: Replacement index 1 out of range for positional args tuple"
     ]
    }
   ],
   "source": [
    "g = [1,\"2024-13-01\", 100, \"Alquiler\"]\n",
    "print(\"{} {} {} {}\".format([x for x in g])) # 13"
   ]
  },
  {
   "cell_type": "code",
   "execution_count": 14,
   "metadata": {},
   "outputs": [
    {
     "name": "stdout",
     "output_type": "stream",
     "text": [
      "[895, '2024-08-18', 781.0, 'otros']\n",
      "[914, '2024-08-06', 750.0, 'supermercado']\n",
      "[929, '2024-11-20', 738.0, 'otros']\n",
      "[942, '2024-09-01', 790.0, 'transporte']\n",
      "[957, '2024-06-04', 770.0, 'transporte']\n",
      "[958, '2024-11-14', 784.0, 'comida']\n",
      "[962, '2024-01-21', 774.0, 'transporte']\n",
      "[974, '2024-03-23', 715.0, 'otros']\n",
      "[998, '2024-10-12', 711.0, 'seguros']\n",
      "[999, '2024-03-08', 773.0, 'comida']\n"
     ]
    }
   ],
   "source": [
    "# funciones Gustavo \n",
    "\n",
    "def mostrarGastos (diccionarioGastos, mes):\n",
    "    print(f'Gastos de {mes}:')\n",
    "    # calcular sub totales por categorias \n",
    "    for categoria in diccionarioGastos[mes]:\n",
    "        total = sum(diccionarioGastos[mes][categoria])\n",
    "        print(f'\\t{categoria}: {total}')\n",
    "\n",
    "# obtener de diccionario el total de gastos de un mes\n",
    "def totalGastosMes(diccionario, mes):\n",
    "    total = 0\n",
    "    for categoria in diccionario[mes]:\n",
    "        total += sum(diccionario[mes][categoria]) # suma los importes de cada categoria\n",
    "    return total\n",
    "\n",
    "def totalGastosPorMes(diccionarioGastos):\n",
    "    for mes in tuplaMeses:\n",
    "        print(f'{mes}: ${totalGastosMes(diccionarioGastos, mes)}')\n",
    "\n",
    "def eliminarGasto(matrizGastos, id):\n",
    "    encontrado = False\n",
    "    i=0\n",
    "    while i < len(matrizGastos) and not encontrado:\n",
    "        if matrizGastos[i][0] == id:\n",
    "            del matrizGastos[i]\n",
    "            encontrado = True\n",
    "        i += 1\n",
    "    return encontrado\n",
    "\n",
    "def buscarGastoPorCategoria(matrizGastos, categoria, categorias):\n",
    "    gastos = []\n",
    "    for gasto in matrizGastos:\n",
    "        if gasto[3] == categoria:\n",
    "            gastos.append(gasto)\n",
    "    return gastos\n",
    "\n",
    "def buscarGastosPorRangoImporte(matrizGasto, minimo, maximo):\n",
    "    gastos = []\n",
    "    for gasto in matrizGasto:\n",
    "        if gasto[2] >= minimo and gasto[2] <= maximo:\n",
    "            gastos.append(gasto)\n",
    "    return gastos\n",
    "\n",
    "# fin funciones Gustavo\n",
    "\n"
   ]
  }
 ],
 "metadata": {
  "kernelspec": {
   "display_name": ".venv",
   "language": "python",
   "name": "python3"
  },
  "language_info": {
   "codemirror_mode": {
    "name": "ipython",
    "version": 3
   },
   "file_extension": ".py",
   "mimetype": "text/x-python",
   "name": "python",
   "nbconvert_exporter": "python",
   "pygments_lexer": "ipython3",
   "version": "3.11.7"
  }
 },
 "nbformat": 4,
 "nbformat_minor": 2
}
